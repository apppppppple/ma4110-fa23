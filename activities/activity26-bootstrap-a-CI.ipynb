{
 "cells": [
  {
   "cell_type": "code",
   "execution_count": 1,
   "id": "valued-cabin",
   "metadata": {},
   "outputs": [],
   "source": [
    "import matplotlib\n",
    "from datascience import *\n",
    "%matplotlib inline\n",
    "import matplotlib.pyplot as plots\n",
    "import numpy as np\n",
    "plots.style.use('fivethirtyeight')"
   ]
  },
  {
   "cell_type": "markdown",
   "id": "general-chambers",
   "metadata": {},
   "source": [
    "# Activity: Bootstrapping Confidence Intervals"
   ]
  },
  {
   "cell_type": "markdown",
   "id": "thirty-identifier",
   "metadata": {},
   "source": [
    "The cell below will load in a dataset from Inside Airbnb (http://insideairbnb.com/get-the-data.html) that has details of over 2000 Airbnb listings in Asheville, NC through February 17, 2021. It includes information about the name of the property, the zip code it's in, price, and many other fields.\n",
    "\n",
    "Today, we'll be investigating how we might be able to estimate the average price for a night at an Airbnb in Asheville, NC. There were a small number of listings (six in total) with prices over 1000 dollars which were removed from the dataset."
   ]
  },
  {
   "cell_type": "code",
   "execution_count": 2,
   "id": "israeli-processor",
   "metadata": {},
   "outputs": [
    {
     "data": {
      "text/html": [
       "<table border=\"1\" class=\"dataframe\">\n",
       "    <thead>\n",
       "        <tr>\n",
       "            <th>id</th> <th>name</th> <th>host_id</th> <th>host_name</th> <th>neighbourhood</th> <th>latitude</th> <th>longitude</th> <th>room_type</th> <th>price</th> <th>minimum_nights</th> <th>number_of_reviews</th> <th>last_review</th> <th>reviews_per_month</th> <th>calculated_host_listings_count</th> <th>availability_365</th>\n",
       "        </tr>\n",
       "    </thead>\n",
       "    <tbody>\n",
       "        <tr>\n",
       "            <td>108061</td> <td>Walk to stores/parks/downtown. Fenced yard/Pets OK</td> <td>320564 </td> <td>Lisa     </td> <td>28801        </td> <td>35.6067 </td> <td>-82.5556 </td> <td>Entire home/apt</td> <td>82   </td> <td>30            </td> <td>89               </td> <td>11/30/2019 </td> <td>0.78             </td> <td>2                             </td> <td>242             </td>\n",
       "        </tr>\n",
       "        <tr>\n",
       "            <td>155305</td> <td>Cottage! BonPaul + Sharky's Hostel                </td> <td>746673 </td> <td>BonPaul  </td> <td>28806        </td> <td>35.5786 </td> <td>-82.5958 </td> <td>Entire home/apt</td> <td>90   </td> <td>1             </td> <td>289              </td> <td>2/13/2021  </td> <td>2.48             </td> <td>7                             </td> <td>310             </td>\n",
       "        </tr>\n",
       "        <tr>\n",
       "            <td>156805</td> <td>Private Room \"Ader\" at BPS Hostel                 </td> <td>746673 </td> <td>BonPaul  </td> <td>28806        </td> <td>35.5786 </td> <td>-82.5958 </td> <td>Private room   </td> <td>66   </td> <td>1             </td> <td>67               </td> <td>1/1/2020   </td> <td>0.58             </td> <td>7                             </td> <td>16              </td>\n",
       "        </tr>\n",
       "        <tr>\n",
       "            <td>156926</td> <td>Mixed Dorm \"Top Bunk #1\" at BPS Hostel            </td> <td>746673 </td> <td>BonPaul  </td> <td>28806        </td> <td>35.5786 </td> <td>-82.5958 </td> <td>Shared room    </td> <td>31   </td> <td>1             </td> <td>282              </td> <td>12/31/2020 </td> <td>2.45             </td> <td>7                             </td> <td>281             </td>\n",
       "        </tr>\n",
       "        <tr>\n",
       "            <td>160594</td> <td>Historic Grove Park                               </td> <td>769252 </td> <td>Elizabeth</td> <td>28801        </td> <td>35.6144 </td> <td>-82.5413 </td> <td>Private room   </td> <td>125  </td> <td>30            </td> <td>58               </td> <td>10/19/2015 </td> <td>0.5              </td> <td>1                             </td> <td>0               </td>\n",
       "        </tr>\n",
       "    </tbody>\n",
       "</table>\n",
       "<p>... (2235 rows omitted)</p>"
      ],
      "text/plain": [
       "<IPython.core.display.HTML object>"
      ]
     },
     "metadata": {},
     "output_type": "display_data"
    }
   ],
   "source": [
    "asheville = Table.read_table('data/asheville-airbnb.csv').where('price', are.below(1000))\n",
    "asheville.show(5)"
   ]
  },
  {
   "cell_type": "markdown",
   "id": "3e0b23e1-6613-4afa-9fb5-86b19eb9e090",
   "metadata": {},
   "source": [
    "## Important Note:\n",
    "Throughout this activity, we are going to practice our bootstrapping technique to construct a confidence interval from a single sample from the population. **Remember:** We use the bootstrap technique when we don't have access to a population, only a sample from that population. That means for this activity, **pretend** that you don't have access to the full population unless specifically asked to use it."
   ]
  },
  {
   "cell_type": "markdown",
   "id": "minus-devices",
   "metadata": {},
   "source": [
    "## Draw a Sample\n",
    "\n",
    "Remember, our goal is to estimate the average nightly price of all Airbnb's in Asheville, NC. As discussed in the lessons, the best way to make such an estimate is to construct a confidence interval. As we've seen, larger sample sizes produce more narrow confidence intervals, meaning we have a more precise estimate of our value. However, larger samples are more expensive to take in real life (you have to spend either more time or more money to get more data in your sample). There's an inherent trade off between cost and accuracy, and when solving your own problems you have to decide how much the additional accuracy is worth to you! In a future lesson you'll learn a method for determining what size sample you should take in order to achieve a certain level of accuracy, but for now choose a sample size between 50 and 200 to use and assign it to the variable `sample_size` in the code cell below.\n",
    "\n",
    "Then, create a sample from the `asheville` table of size `sample_size` and assign that Table to `airbnb_sample`."
   ]
  },
  {
   "cell_type": "code",
   "execution_count": 62,
   "id": "frank-galaxy",
   "metadata": {},
   "outputs": [
    {
     "data": {
      "text/html": [
       "<table border=\"1\" class=\"dataframe\">\n",
       "    <thead>\n",
       "        <tr>\n",
       "            <th>id</th> <th>name</th> <th>host_id</th> <th>host_name</th> <th>neighbourhood</th> <th>latitude</th> <th>longitude</th> <th>room_type</th> <th>price</th> <th>minimum_nights</th> <th>number_of_reviews</th> <th>last_review</th> <th>reviews_per_month</th> <th>calculated_host_listings_count</th> <th>availability_365</th>\n",
       "        </tr>\n",
       "    </thead>\n",
       "    <tbody>\n",
       "        <tr>\n",
       "            <td>34744862</td> <td>Explore Asheville! Minutes to Downtown & RAD!               </td> <td>38005428 </td> <td>Emily    </td> <td>28715        </td> <td>35.5452 </td> <td>-82.671  </td> <td>Entire home/apt</td> <td>114  </td> <td>2             </td> <td>70               </td> <td>1/24/2021  </td> <td>3.37             </td> <td>1                             </td> <td>39              </td>\n",
       "        </tr>\n",
       "        <tr>\n",
       "            <td>47183867</td> <td>City and Mountain Views await you in this Luxury Downtow ...</td> <td>167186184</td> <td>Towns    </td> <td>28801        </td> <td>35.5892 </td> <td>-82.5521 </td> <td>Entire home/apt</td> <td>209  </td> <td>1             </td> <td>1                </td> <td>1/22/2021  </td> <td>1                </td> <td>73                            </td> <td>339             </td>\n",
       "        </tr>\n",
       "        <tr>\n",
       "            <td>11938223</td> <td>Cabin by the pond                                           </td> <td>18089084 </td> <td>Patricia </td> <td>28803        </td> <td>35.547  </td> <td>-82.4931 </td> <td>Entire home/apt</td> <td>115  </td> <td>2             </td> <td>47               </td> <td>12/22/2020 </td> <td>0.79             </td> <td>2                             </td> <td>354             </td>\n",
       "        </tr>\n",
       "        <tr>\n",
       "            <td>15647883</td> <td>West Nest on Haywood Road                                   </td> <td>98245203 </td> <td>Mike     </td> <td>28806        </td> <td>35.5785 </td> <td>-82.5798 </td> <td>Entire home/apt</td> <td>99   </td> <td>1             </td> <td>267              </td> <td>2/14/2021  </td> <td>5.11             </td> <td>1                             </td> <td>135             </td>\n",
       "        </tr>\n",
       "        <tr>\n",
       "            <td>20174635</td> <td>Our serene cabin in the woods                               </td> <td>138795160</td> <td>Leslie   </td> <td>28805        </td> <td>35.6334 </td> <td>-82.4671 </td> <td>Entire home/apt</td> <td>114  </td> <td>2             </td> <td>90               </td> <td>2/14/2021  </td> <td>2.11             </td> <td>1                             </td> <td>169             </td>\n",
       "        </tr>\n",
       "    </tbody>\n",
       "</table>\n",
       "<p>... (245 rows omitted)</p>"
      ],
      "text/plain": [
       "<IPython.core.display.HTML object>"
      ]
     },
     "metadata": {},
     "output_type": "display_data"
    }
   ],
   "source": [
    "sample_size = 250\n",
    "airbnb_sample = asheville.sample(sample_size)\n",
    "\n",
    "# Show the top 5 to see a little about your sample\n",
    "airbnb_sample.show(5)"
   ]
  },
  {
   "cell_type": "markdown",
   "id": "soviet-florence",
   "metadata": {},
   "source": [
    "# Bootstrapping the Sample\n",
    "\n",
    "Since this is the only sample we have to use, write a function called `one_bootstrap_mean` that takes in no arguments and returns the mean value of the `price` column of a single resample of `airbnb_sample`. **Remember:** When resampling (taking a bootstrap) from a sample, you should draw the same number of elements that are contained in the sample (`sample_size`) and you should draw **with replacement**!"
   ]
  },
  {
   "cell_type": "code",
   "execution_count": 63,
   "id": "major-island",
   "metadata": {},
   "outputs": [
    {
     "data": {
      "text/plain": [
       "147.124"
      ]
     },
     "execution_count": 63,
     "metadata": {},
     "output_type": "execute_result"
    }
   ],
   "source": [
    "def one_bootstrap_mean():\n",
    "    return np.mean(airbnb_sample.sample(sample_size, with_replacement=True).column('price'))\n",
    "\n",
    "one_bootstrap_mean()"
   ]
  },
  {
   "cell_type": "markdown",
   "id": "4c6108d3-1bc5-4cfd-88ec-268aa16d6a45",
   "metadata": {},
   "source": [
    "Now, create an array named `bootstrap_means` which contains 1000 bootstrap means of your `airbnb_sample` Table. You should follow our typical format of first constructing an empty array and then writing a `for` loop that computes the bootstrap mean (use your function from above) and appends each mean to the `bootstrap_means` array."
   ]
  },
  {
   "cell_type": "code",
   "execution_count": 64,
   "id": "comparative-bridges",
   "metadata": {},
   "outputs": [
    {
     "data": {
      "text/plain": [
       "array([155.916, 149.604, 157.912, 149.784, 155.732, 142.108, 155.768,\n",
       "       144.072, 147.696, 141.38 ])"
      ]
     },
     "execution_count": 64,
     "metadata": {},
     "output_type": "execute_result"
    }
   ],
   "source": [
    "bootstrap_means = make_array()\n",
    "\n",
    "for i in np.arange(1000):\n",
    "    new_mean = one_bootstrap_mean()\n",
    "    bootstrap_means = np.append(bootstrap_means, new_mean)\n",
    "\n",
    "# Shows ONLY the first 10 bootstrap means\n",
    "bootstrap_means[0:10]"
   ]
  },
  {
   "cell_type": "markdown",
   "id": "5e5a74eb-ff26-4c72-ad64-47c9bef8fbd3",
   "metadata": {},
   "source": [
    "Create a histogram of these bootstrap means. Theory predicts that you should expect to see a normal distribution of the bootstrap means. Do you?\n",
    "\n",
    "**Hint:** Remember, you can quickly create a histogram from an array by constructing an empty Table using `Table()` and then appending the array as a column to the table by using `.with_column( ... )` and then calling `.hist( ... )`. Be sure to provide all the needed arguments to these methods. "
   ]
  },
  {
   "cell_type": "code",
   "execution_count": 65,
   "id": "321d5c70-83eb-4ee4-a0d6-7d4f8d198f17",
   "metadata": {},
   "outputs": [
    {
     "data": {
      "image/png": "[encoded data removed]",
      "text/plain": [
       "<Figure size 432x288 with 1 Axes>"
      ]
     },
     "metadata": {},
     "output_type": "display_data"
    }
   ],
   "source": [
    "Table().with_column('Bootstrap means', bootstrap_means).hist()\n",
    "plots.title('Bootstrap Means (1K Bootstraps from our Sample)');"
   ]
  },
  {
   "cell_type": "code",
   "execution_count": 66,
   "id": "26f0415d-0831-4407-a5a3-df026d6eb982",
   "metadata": {},
   "outputs": [
    {
     "data": {
      "text/plain": [
       "(132.888, 171.456)"
      ]
     },
     "execution_count": 66,
     "metadata": {},
     "output_type": "execute_result"
    }
   ],
   "source": [
    "min(bootstrap_means), max(bootstrap_means)"
   ]
  },
  {
   "cell_type": "markdown",
   "id": "2d901992-8a45-4459-93c4-1b43563d8c24",
   "metadata": {},
   "source": [
    "## Constructing the Confidence Interval"
   ]
  },
  {
   "cell_type": "markdown",
   "id": "1d60a3be-f3bf-4283-90bb-9fe0bc6a166a",
   "metadata": {},
   "source": [
    "To construct a 95% Confidence Interval you'll need to determine which two values in the bootstrapped distribution contain 95% of the data between them.\n",
    "\n",
    "Use the `percentile` function to determine the left and right endpoints of a 95% Confidence Interval for the mean price. Assign these values to `left` and `right` respectively."
   ]
  },
  {
   "cell_type": "code",
   "execution_count": 67,
   "id": "61eb9baa-2b98-48a5-b8dc-a801e4673bef",
   "metadata": {},
   "outputs": [
    {
     "name": "stdout",
     "output_type": "stream",
     "text": [
      "95% CI: ( 137.352 , 162.044 )\n"
     ]
    }
   ],
   "source": [
    "left = percentile(2.5, bootstrap_means)\n",
    "right = percentile(97.5, bootstrap_means)\n",
    "\n",
    "print(\"95% CI: (\", left, \",\", right,\")\")"
   ]
  },
  {
   "cell_type": "markdown",
   "id": "7f3d6ce1-3a79-44c2-afa6-4605faa94bf7",
   "metadata": {},
   "source": [
    "The code below will overlay a yellow line across the base of the distribution of bootstrapped means to visually show the values in the distribution that are within the interval."
   ]
  },
  {
   "cell_type": "code",
   "execution_count": 68,
   "id": "nutritional-lottery",
   "metadata": {},
   "outputs": [
    {
     "data": {
      "image/png": "[encoded data removed]",
      "text/plain": [
       "<Figure size 432x288 with 1 Axes>"
      ]
     },
     "metadata": {},
     "output_type": "display_data"
    }
   ],
   "source": [
    "Table().with_column('Bootstrap means', bootstrap_means).hist()\n",
    "plots.plot([left,right], [0,0], color=\"gold\", lw=8, zorder=1);\n",
    "plots.title('Bootstrap Means (1K Bootstraps from our Sample)');"
   ]
  },
  {
   "cell_type": "markdown",
   "id": "fe5bd0af-cbc9-4a52-9193-47533821b37a",
   "metadata": {},
   "source": [
    "## How did you do?\n",
    "\n",
    "The goal of constructing this 95% Confidence Interval was to estimate the true average price for a night in an Airbnb in Asheville, NC. Unless we had the full dataset there'd be no way to know this actual value. In this case, we **do** have the full dataset, so we can see if our sample and bootstrapping technique resulted in an interval that contains the true population average. We should expect this process to construct an interval that contains the true mean 95% of the time, so if your interval doesn't contain the mean that doesn't necessarily mean you did this wrong! Let's see how you did.\n",
    "\n",
    "First, let's look at the distribution of ALL prices:"
   ]
  },
  {
   "cell_type": "code",
   "execution_count": 58,
   "id": "introductory-philadelphia",
   "metadata": {},
   "outputs": [
    {
     "data": {
      "image/png": "[encoded data removed]",
      "text/plain": [
       "<Figure size 432x288 with 1 Axes>"
      ]
     },
     "metadata": {},
     "output_type": "display_data"
    }
   ],
   "source": [
    "asheville.hist('price', bins = 20)"
   ]
  },
  {
   "cell_type": "markdown",
   "id": "10141c30-6611-47ae-8ec7-d39b59597603",
   "metadata": {},
   "source": [
    "Next, let's look at what the average of the price column is for the `asheville` table."
   ]
  },
  {
   "cell_type": "code",
   "execution_count": 59,
   "id": "380dbc45-82c7-48f2-98bf-a521f0326091",
   "metadata": {},
   "outputs": [
    {
     "data": {
      "text/plain": [
       "142.2799107142857"
      ]
     },
     "execution_count": 59,
     "metadata": {},
     "output_type": "execute_result"
    }
   ],
   "source": [
    "population_mean = np.mean(asheville.column('price'))\n",
    "population_mean"
   ]
  },
  {
   "cell_type": "markdown",
   "id": "f690f9cf-30e4-4495-876d-84ab5999ec88",
   "metadata": {},
   "source": [
    "Is the population mean in between `left` and `right`, or put another way, did your Confidence Interval contain the true mean?"
   ]
  },
  {
   "cell_type": "code",
   "execution_count": 60,
   "id": "8370c103-520c-4bf8-9365-1d0c23e0ffa4",
   "metadata": {},
   "outputs": [
    {
     "data": {
      "text/plain": [
       "True"
      ]
     },
     "execution_count": 60,
     "metadata": {},
     "output_type": "execute_result"
    }
   ],
   "source": [
    "left < population_mean < right"
   ]
  },
  {
   "cell_type": "markdown",
   "id": "ad751fcb-a1a2-4b48-bf27-81b4a71378df",
   "metadata": {},
   "source": [
    "The code below will recreate this entire process 50 times and draw all 50 confidence intervals as horizontal yellow lines. Notice how variations in the original sample that was drawn, as well as randomness in the resampling process, create variations in the Confidence Intervals. In real life, you're usually only able to construct 1 of these from your single sample you were able to obtain. You'd never know the details of how other samples and other resamples might have impacted how it *could* have gone differently. Do any of these Confidence Intervals fail to capture the true average that we were trying to predict? The true average price is drawn in as a vertical red line. If any of your yellow bars don't contain the red line, that means if you had constructed that as your confidence interval it would have NOT been a good estimate for the mean price. Because we constructed a 95% confidence interval, we'd expect that to happen about 5% of the time, or 1 out of every 20 Confidence Intervals.\n",
    "\n",
    "**Caution:** This next cell might take a little while to run!"
   ]
  },
  {
   "cell_type": "code",
   "execution_count": 69,
   "id": "3b4e39ec-75d0-48d0-8726-d80ea1c427cb",
   "metadata": {},
   "outputs": [
    {
     "data": {
      "image/png": "[encoded data removed]",
      "text/plain": [
       "<Figure size 432x288 with 1 Axes>"
      ]
     },
     "metadata": {},
     "output_type": "display_data"
    }
   ],
   "source": [
    "for i in np.arange(20):\n",
    "    airbnb_sample = asheville.sample(250)\n",
    "    \n",
    "    bootstrap_means = make_array()\n",
    "    for j in np.arange(1000):\n",
    "        new_mean = one_bootstrap_mean()\n",
    "        bootstrap_means = np.append(bootstrap_means, new_mean)\n",
    "        left = percentile(2.5, bootstrap_means)\n",
    "        right = percentile(97.5, bootstrap_means)\n",
    "        plots.plot([left,right], [i,i], color=\"gold\", lw=8, zorder=1);\n",
    "    plots.plot([population_mean,population_mean], [-1,i+1], color=\"red\", lw=1, zorder=1);\n",
    "    plots.title('20 Confidence Intervals');"
   ]
  },
  {
   "cell_type": "code",
   "execution_count": null,
   "id": "60ff3742-eb13-4f33-803e-33b0e489dbf9",
   "metadata": {},
   "outputs": [],
   "source": []
  }
 ],
 "metadata": {
  "kernelspec": {
   "display_name": "Python 3 (ipykernel)",
   "language": "python",
   "name": "python3"
  },
  "language_info": {
   "codemirror_mode": {
    "name": "ipython",
    "version": 3
   },
   "file_extension": ".py",
   "mimetype": "text/x-python",
   "name": "python",
   "nbconvert_exporter": "python",
   "pygments_lexer": "ipython3",
   "version": "3.9.6"
  }
 },
 "nbformat": 4,
 "nbformat_minor": 5
}
