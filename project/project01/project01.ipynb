{
 "cells": [
  {
   "cell_type": "code",
   "execution_count": null,
   "metadata": {
    "deletable": false,
    "editable": false
   },
   "outputs": [],
   "source": [
    "# Initialize Otter\n",
    "import otter\n",
    "grader = otter.Notebook(\"project01.ipynb\")"
   ]
  },
  {
   "cell_type": "markdown",
   "metadata": {},
   "source": [
    "# Project 1: World Progress"
   ]
  },
  {
   "cell_type": "markdown",
   "metadata": {},
   "source": [
    "In this project, you'll explore data from [Gapminder.org](http://gapminder.org), a website dedicated to providing a fact-based view of the world and how it has changed. That site includes several data visualizations and presentations, but also publishes the raw data that we will use in this project to recreate and extend some of their most famous visualizations.\n",
    "\n",
    "The Gapminder website collects data from many sources and compiles them into tables that describe many countries around the world. All of the data they aggregate are published in the [Systema Globalis](https://github.com/open-numbers/ddf--gapminder--systema_globalis/blob/master/README.md). Their goal is \"to compile all public statistics; Social, Economic and Environmental; into a comparable total dataset.\" All data sets in this project are copied directly from the Systema Globalis without any changes.\n",
    "\n",
    "This project is dedicated to [Hans Rosling](https://en.wikipedia.org/wiki/Hans_Rosling) (1948-2017), who championed the use of data to understand and prioritize global development challenges."
   ]
  },
  {
   "cell_type": "markdown",
   "metadata": {},
   "source": [
    "## Logistics\n",
    "\n",
    "For all problems that you must write explanations and sentences for, you **must** provide your answer in the designated space. Moreover, throughout this project, please be sure to not re-assign variables throughout the notebook! For example, if you use `max_temperature` in your answer to one question, do not reassign it later on. Otherwise, you will fail tests that you thought you were passing previously!\n",
    "\n",
    "**Note: This project has hidden tests on it. Additional tests will be run once your project is submitted for grading. While you may pass all the tests you have access to before submission, you may not earn full credit if you do not pass the hidden tests as well.**. \n",
    "\n",
    "Many of the tests you have access to before submitting only test to ensure you have given an answer that is formatted correctly and/or you have given an answer that *could* make sense in context. For example, a test you have access to while completing the assignment may check that you selected a valid choice for a multiple choice problem (1, 2, or 3) or that your answer is an integer between 0 and 50 if asked to count a subset of states in the United States. The tests that are run after submission will evaluate your work for accuracy. **Do not assume that just because all your tests pass before submission means that your answers are correct!**\n",
    "\n",
    "Consult with your teacher and course syllabus for information and policies regarding appropriate collaboration with other students, appropriate use of AI tools, and submission of late work.\n",
    "\n",
    "**Advice.** Develop your answers incrementally. To perform a complicated table manipulation, break it up into steps, perform each step on a different line, give a new name to each result, and check that each intermediate result is what you expect. You can add any additional names or functions you want to the provided cells. Make sure that you are using distinct and meaningful variable names throughout the notebook. Along that line, **DO NOT** reuse the variable names that we use when we grade your answers. For example, in Question 1 of the Global Poverty section, we ask you to assign an answer to `latest`. Do not reassign the variable name `latest` to anything else in your notebook, otherwise there is the chance that our tests grade against what `latest` was reassigned to.\n",
    "\n",
    "You **never** have to use just one line in this project or any others. Use intermediate variables and multiple lines as much as you would like!  \n",
    "\n",
    "To get started, load `datascience`, `numpy`, and `plots`."
   ]
  },
  {
   "cell_type": "code",
   "execution_count": null,
   "metadata": {},
   "outputs": [],
   "source": [
    "from datascience import *\n",
    "import numpy as np\n",
    "\n",
    "%matplotlib inline\n",
    "import matplotlib.pyplot as plots\n",
    "plots.style.use('fivethirtyeight')"
   ]
  },
  {
   "cell_type": "markdown",
   "metadata": {},
   "source": [
    "## 1. Global Population Growth\n"
   ]
  },
  {
   "cell_type": "markdown",
   "metadata": {},
   "source": [
    "The global population of humans reached 1 billion around 1800, 3 billion around 1960, and 7 billion around 2011. The potential impact of exponential population growth has concerned scientists, economists, and politicians alike.\n",
    "\n",
    "The UN Population Division estimates that the world population will likely continue to grow throughout the 21st century, but at a slower rate, perhaps reaching 11 billion by 2100. However, the UN does not rule out scenarios of more extreme growth.\n",
    "\n",
    "<a href=\"http://www.pewresearch.org/fact-tank/2015/06/08/scientists-more-worried-than-public-about-worlds-growing-population/ft_15-06-04_popcount/\"> \n",
    " <img src=\"pew_population_projection.png\"/> \n",
    "</a>\n",
    "\n",
    "In this section, we will examine some of the factors that influence population growth and how they are changing around the world.\n",
    "\n",
    "The first table we will consider is the total population of each country over time. Run the cell below."
   ]
  },
  {
   "cell_type": "code",
   "execution_count": null,
   "metadata": {},
   "outputs": [],
   "source": [
    "population = Table.read_table('population.csv')\n",
    "population.show(3)"
   ]
  },
  {
   "cell_type": "markdown",
   "metadata": {},
   "source": [
    "**Note:** The population csv file can also be found [here](https://github.com/open-numbers/ddf--gapminder--systema_globalis/raw/master/ddf--datapoints--population_total--by--geo--time.csv). The data for this project was downloaded in February 2017."
   ]
  },
  {
   "cell_type": "markdown",
   "metadata": {},
   "source": [
    "### Bangladesh\n",
    "\n",
    "In the `population` table, the `geo` column contains three-letter codes established by the [International Organization for Standardization](https://en.wikipedia.org/wiki/International_Organization_for_Standardization) (ISO) in the [Alpha-3](https://en.wikipedia.org/wiki/ISO_3166-1_alpha-3#Current_codes) standard. We will begin by taking a close look at Bangladesh. Inspect the standard to find the 3-letter code for Bangladesh."
   ]
  },
  {
   "cell_type": "markdown",
   "metadata": {
    "deletable": false,
    "editable": false
   },
   "source": [
    "#### Question 1.1\n",
    "Create a table called `b_pop` that has two columns labeled `time` and `population_total`. The first column should contain the years from 1970 through 2015 (including both 1970 and 2015) and the second should contain the population of Bangladesh in each of those years.\n"
   ]
  },
  {
   "cell_type": "code",
   "execution_count": null,
   "metadata": {
    "tags": []
   },
   "outputs": [],
   "source": [
    "b_pop = ...\n",
    "b_pop"
   ]
  },
  {
   "cell_type": "code",
   "execution_count": null,
   "metadata": {
    "deletable": false,
    "editable": false
   },
   "outputs": [],
   "source": [
    "grader.check(\"q1_1\")"
   ]
  },
  {
   "cell_type": "markdown",
   "metadata": {},
   "source": [
    "Run the following cell to create a table called `b_five` that has the population of Bangladesh every five years. At a glance, it appears that the population of Bangladesh has been growing quickly indeed!"
   ]
  },
  {
   "cell_type": "code",
   "execution_count": null,
   "metadata": {},
   "outputs": [],
   "source": [
    "b_pop.set_format('population_total', NumberFormatter)\n",
    "\n",
    "fives = np.arange(1970, 2016, 5) # 1970, 1975, 1980, ...\n",
    "b_five = b_pop.sort('time').where('time', are.contained_in(fives))\n",
    "b_five"
   ]
  },
  {
   "cell_type": "markdown",
   "metadata": {
    "deletable": false,
    "editable": false
   },
   "source": [
    "#### Question 1.2\n",
    "\n",
    "Assign `initial` to an array that contains the population for every five year interval from 1970 to 2010. Then, assign `changed` to an array that contains the population for every five year interval from 1975 to 2015. You should use the `b_five` table to create both arrays, first filtering the table to only contain the relevant years.\n",
    "\n",
    "We have provided the code below that uses  `initial` and `changed` in order to add a column to `b_five` called `annual_growth`. Don't worry about the calculation of the growth rates; run the test below to test your solution.\n",
    "\n",
    "If you are interested in how we came up with the formula for growth rates, consult the [growth rates](https://www.inferentialthinking.com/chapters/03/2/1/growth) section of the textbook.\n"
   ]
  },
  {
   "cell_type": "code",
   "execution_count": null,
   "metadata": {
    "tags": []
   },
   "outputs": [],
   "source": [
    "initial = ...\n",
    "changed = b_five.where('time', are.above(1970)).column('population_total')\n",
    "\n",
    "# Don't change the code below\n",
    "b_1970_through_2010 = b_five.where('time', are.below_or_equal_to(2010)) \n",
    "b_five_growth = b_1970_through_2010.with_column('annual_growth', (changed/initial)**0.2-1)\n",
    "b_five_growth.set_format('annual_growth', PercentFormatter)"
   ]
  },
  {
   "cell_type": "code",
   "execution_count": null,
   "metadata": {
    "deletable": false,
    "editable": false
   },
   "outputs": [],
   "source": [
    "grader.check(\"q1_2\")"
   ]
  },
  {
   "cell_type": "markdown",
   "metadata": {},
   "source": [
    "While the population has grown every five years since 1970, the annual growth rate decreased dramatically from 1985 to 2005. Let's look at some other information in order to develop a possible explanation. Run the next cell to load three additional tables of measurements about countries over time."
   ]
  },
  {
   "cell_type": "code",
   "execution_count": null,
   "metadata": {},
   "outputs": [],
   "source": [
    "life_expectancy = Table.read_table('life_expectancy.csv')\n",
    "child_mortality = Table.read_table('child_mortality.csv').relabel(2, 'child_mortality_under_5_per_1000_born')\n",
    "fertility = Table.read_table('fertility.csv')"
   ]
  },
  {
   "cell_type": "markdown",
   "metadata": {},
   "source": [
    "The `life_expectancy` table contains a statistic that is often used to measure how long people live, called *life expectancy at birth*. This number, for a country in a given year, [does not measure how long babies born in that year are expected to live](http://blogs.worldbank.org/opendata/what-does-life-expectancy-birth-really-mean). Instead, it measures how long someone would live, on average, if the *mortality conditions* in that year persisted throughout their lifetime. These \"mortality conditions\" describe what fraction of people at each age survived the year. So, it is a way of measuring the proportion of people that are staying alive, aggregated over different age groups in the population."
   ]
  },
  {
   "cell_type": "markdown",
   "metadata": {},
   "source": [
    "Run the following cells below to see `life_expectancy`, `child_mortality`, and `fertility`. Refer back to these tables as they will be helpful for answering further questions!"
   ]
  },
  {
   "cell_type": "code",
   "execution_count": null,
   "metadata": {},
   "outputs": [],
   "source": [
    "life_expectancy"
   ]
  },
  {
   "cell_type": "code",
   "execution_count": null,
   "metadata": {},
   "outputs": [],
   "source": [
    "child_mortality"
   ]
  },
  {
   "cell_type": "code",
   "execution_count": null,
   "metadata": {},
   "outputs": [],
   "source": [
    "fertility"
   ]
  },
  {
   "cell_type": "markdown",
   "metadata": {
    "deletable": false,
    "editable": false
   },
   "source": [
    "<!-- BEGIN QUESTION -->\n",
    "\n",
    "#### Question 1.3 \n",
    "\n",
    "Perhaps population is growing more slowly because people aren't living as long. Use the `life_expectancy` table to draw a line graph with the years 1970 and later on the horizontal axis that shows how the *life expectancy at birth* has changed in Bangladesh.\n"
   ]
  },
  {
   "cell_type": "code",
   "execution_count": null,
   "metadata": {
    "tags": []
   },
   "outputs": [],
   "source": [
    "# Fill in code here\n",
    "..."
   ]
  },
  {
   "cell_type": "markdown",
   "metadata": {
    "deletable": false,
    "editable": false
   },
   "source": [
    "<!-- END QUESTION -->\n",
    "\n",
    "<!-- BEGIN QUESTION -->\n",
    "\n",
    "#### Question 1.4 \n",
    "\n",
    "Assuming everything else stays the same, do the trends in life expectancy in the graph above directly explain why the population growth rate decreased from 1985 to 2010 in Bangladesh? Why or why not? \n",
    "\n",
    "Hint: What happened in Bangladesh in 1991, and does that event explain the overall change in population growth rate?\n"
   ]
  },
  {
   "cell_type": "markdown",
   "metadata": {},
   "source": [
    "_Type your answer here, replacing this text._"
   ]
  },
  {
   "cell_type": "markdown",
   "metadata": {
    "deletable": false,
    "editable": false
   },
   "source": [
    "<!-- END QUESTION -->\n",
    "\n",
    "The `fertility` table contains a statistic that is often used to measure how many babies are being born, the *total fertility rate*. This number describes the [number of children a woman would have in her lifetime](https://www.measureevaluation.org/prh/rh_indicators/specific/fertility/total-fertility-rate), on average, if the current rates of birth by age of the mother persisted throughout her child bearing years, assuming she survived through age 49. "
   ]
  },
  {
   "cell_type": "markdown",
   "metadata": {
    "deletable": false,
    "editable": false
   },
   "source": [
    "#### Question 1.5\n",
    "\n",
    "Write a function `fertility_over_time` that takes the Alpha-3 code of a `country` and a `start` year. It returns a two-column table with labels `Year` and `Children per woman` that can be used to generate a line chart of the country's fertility rate each year, starting at the `start` year. The plot should include the `start` year and all later years that appear in the `fertility` table. \n",
    "\n",
    "Then, in the next cell, call your `fertility_over_time` function on the Alpha-3 code for Bangladesh and the year 1970 in order to plot how Bangladesh's fertility rate has changed since 1970. Note that the function `fertility_over_time` should not return the plot itself. **The expression that draws the line plot is provided for you; please don't change it.**\n"
   ]
  },
  {
   "cell_type": "code",
   "execution_count": null,
   "metadata": {
    "tags": []
   },
   "outputs": [],
   "source": [
    "def fertility_over_time(country, start):\n",
    "    \"\"\"Create a two-column table that describes a country's total fertility rate each year.\"\"\"\n",
    "    country_fertility = ...\n",
    "    country_fertility_after_start = ...\n",
    "    cleaned_table = ...\n",
    "    ...\n",
    "\n",
    "bangladesh_code = 'bgd'\n",
    "fertility_over_time(bangladesh_code, 1970).plot(0, 1) # You should *not* change this line."
   ]
  },
  {
   "cell_type": "code",
   "execution_count": null,
   "metadata": {
    "deletable": false,
    "editable": false
   },
   "outputs": [],
   "source": [
    "grader.check(\"q1_5\")"
   ]
  },
  {
   "cell_type": "markdown",
   "metadata": {
    "deletable": false,
    "editable": false
   },
   "source": [
    "<!-- BEGIN QUESTION -->\n",
    "\n",
    "#### Question 1.6\n",
    "\n",
    "Assuming everything else is constant, do the trends in fertility in the graph above help directly explain why the population growth rate decreased from 1985 to 2010 in Bangladesh? Why or why not?\n"
   ]
  },
  {
   "cell_type": "markdown",
   "metadata": {},
   "source": [
    "_Type your answer here, replacing this text._"
   ]
  },
  {
   "cell_type": "markdown",
   "metadata": {
    "deletable": false,
    "editable": false
   },
   "source": [
    "<!-- END QUESTION -->\n",
    "\n",
    "It has been observed that lower fertility rates are often associated with lower child mortality rates. The link has been attributed to family planning: if parents can expect that their children will all survive into adulthood, then they will choose to have fewer children. We can see if this association is evident in Bangladesh by plotting the relationship between total fertility rate and [child mortality rate per 1000 children](https://en.wikipedia.org/wiki/Child_mortality)."
   ]
  },
  {
   "cell_type": "markdown",
   "metadata": {
    "deletable": false,
    "editable": false
   },
   "source": [
    "#### Question 1.7 \n",
    "\n",
    "Using both the `fertility` and `child_mortality` tables, draw a scatter diagram that has Bangladesh's total fertility on the horizontal axis and its child mortality on the vertical axis with one point for each year, starting with 1970.\n",
    "\n",
    "**The expression that draws the scatter diagram is provided for you; please don't change it.** Instead, create a table called `post_1969_fertility_and_child_mortality` with the appropriate column labels and data in order to generate the chart correctly. Use the label `Children per woman` to describe total fertility and the label `Child deaths per 1000 born` to describe child mortality.\n"
   ]
  },
  {
   "cell_type": "code",
   "execution_count": null,
   "metadata": {
    "tags": []
   },
   "outputs": [],
   "source": [
    "bgd_fertility = ...\n",
    "bgd_child_mortality = ...\n",
    "fertility_and_child_mortality = ...\n",
    "post_1969_fertility_and_child_mortality = ...\n",
    "\n",
    "post_1969_fertility_and_child_mortality.scatter('Children per woman', 'Child deaths per 1000 born') # You should *not* change this line."
   ]
  },
  {
   "cell_type": "code",
   "execution_count": null,
   "metadata": {
    "deletable": false,
    "editable": false
   },
   "outputs": [],
   "source": [
    "grader.check(\"q1_7\")"
   ]
  },
  {
   "cell_type": "markdown",
   "metadata": {
    "deletable": false,
    "editable": false
   },
   "source": [
    "<!-- BEGIN QUESTION -->\n",
    "\n",
    "#### Question 1.8 \n",
    "\n",
    "In one or two sentences, describe the association (if any) that is illustrated by this scatter diagram. Does the diagram show that reduced child mortality causes parents to choose to have fewer children?\n"
   ]
  },
  {
   "cell_type": "markdown",
   "metadata": {},
   "source": [
    "_Type your answer here, replacing this text._"
   ]
  },
  {
   "cell_type": "markdown",
   "metadata": {
    "deletable": false,
    "editable": false
   },
   "source": [
    "<!-- END QUESTION -->\n",
    "\n",
    "### The World\n",
    "\n",
    "The change observed in Bangladesh since 1970 can also be observed in many other developing countries: health services improve, life expectancy increases, and child mortality decreases. At the same time, the fertility rate often plummets, and so the population growth rate decreases despite increasing longevity."
   ]
  },
  {
   "cell_type": "markdown",
   "metadata": {},
   "source": [
    "Run the cell below to generate two overlaid histograms, one for 1960 and one for 2010, that show the distributions of total fertility rates for these two years among all 201 countries in the `fertility` table."
   ]
  },
  {
   "cell_type": "code",
   "execution_count": null,
   "metadata": {},
   "outputs": [],
   "source": [
    "Table().with_columns(\n",
    "    '1960', fertility.where('time', 1960).column(2),\n",
    "    '2010', fertility.where('time', 2010).column(2)\n",
    ").hist(bins=np.arange(0, 10, 0.5), unit='child per woman')\n",
    "_ = plots.xlabel('Children per woman')\n",
    "_ = plots.ylabel('Percent per children per woman')\n",
    "_ = plots.xticks(np.arange(10))"
   ]
  },
  {
   "cell_type": "markdown",
   "metadata": {
    "deletable": false,
    "editable": false
   },
   "source": [
    "#### Question 1.9\n",
    "\n",
    "Assign `fertility_statements` to an array of the numbers of each statement below that can be correctly inferred from these histograms.\n",
    "1. About the same number of countries had a fertility rate between 3.5 and 4.5 in both 1960 and 2010.\n",
    "2. In 2010, about 40% of countries had a fertility rate between 1.5 and 2.\n",
    "3. In 1960, less than 20% of countries had a fertility rate below 3.\n",
    "4. More countries had a fertility rate above 3 in 1960 than in 2010.\n",
    "5. At least half of countries had a fertility rate between 5 and 8 in 1960.\n",
    "6. At least half of countries had a fertility rate below 3 in 2010.\n"
   ]
  },
  {
   "cell_type": "code",
   "execution_count": null,
   "metadata": {
    "tags": []
   },
   "outputs": [],
   "source": [
    "fertility_statements = ..."
   ]
  },
  {
   "cell_type": "code",
   "execution_count": null,
   "metadata": {
    "deletable": false,
    "editable": false
   },
   "outputs": [],
   "source": [
    "grader.check(\"q1_9\")"
   ]
  },
  {
   "cell_type": "markdown",
   "metadata": {
    "deletable": false,
    "editable": false
   },
   "source": [
    "<!-- BEGIN QUESTION -->\n",
    "\n",
    "#### Question 1.10\n",
    "\n",
    "Draw a line plot of the world population from 1800 through 2005. The world population is the sum of all the country's populations. \n"
   ]
  },
  {
   "cell_type": "code",
   "execution_count": null,
   "metadata": {
    "tags": []
   },
   "outputs": [],
   "source": [
    "#Fill in code here\n",
    "..."
   ]
  },
  {
   "cell_type": "markdown",
   "metadata": {
    "deletable": false,
    "editable": false
   },
   "source": [
    "<!-- END QUESTION -->\n",
    "\n",
    "#### Question 1.11 \n",
    "\n",
    "Create a function `stats_for_year` that takes a `year` and returns a table of statistics. The table it returns should have four columns: `geo`, `population_total`, `children_per_woman_total_fertility`, and `child_mortality_under_5_per_1000_born`. Each row should contain one Alpha-3 country code and three statistics: population, fertility rate, and child mortality for that `year` from the `population`, `fertility` and `child_mortality` tables. Only include rows for which all three statistics are available for the country and year.\n",
    "\n",
    "In addition, restrict the result to country codes that appears in `big_50`, an array of the 50 most populous countries in 2010. This restriction will speed up computations later in the project.\n",
    "\n",
    "After you write `stats_for_year`, try calling `stats_for_year` on any year between 1960 and 2010. Try to understand the output of stats_for_year.\n",
    "\n",
    "*Hint*: The tests for this question are quite comprehensive, so if you pass the tests, your function is probably correct. However, without calling your function yourself and looking at the output, it will be very difficult to understand any problems you have, so try your best to write the function correctly and check that it works before you rely on the tests to confirm your work.\n"
   ]
  },
  {
   "cell_type": "code",
   "execution_count": null,
   "metadata": {
    "tags": []
   },
   "outputs": [],
   "source": [
    "# We first create a population table that only includes the \n",
    "# 50 countries with the largest 2010 populations. We focus on \n",
    "# these 50 countries only so that plotting later will run faster.\n",
    "big_50 = population.where('time', are.equal_to(2010)).sort(\"population_total\", descending=True).take(np.arange(50)).column('geo')\n",
    "population_of_big_50 = population.where('time', are.above(1959)).where('geo', are.contained_in(big_50))\n",
    "\n",
    "def stats_for_year(year):\n",
    "    \"\"\"Return a table of the stats for each country that year.\"\"\"\n",
    "    p = population_of_big_50.where('time', are.equal_to(year)).drop('time')\n",
    "    f = fertility.where('time', are.equal_to(year)).drop('time')\n",
    "    c = child_mortality.where('time', are.equal_to(year)).drop('time')\n",
    "    ...\n",
    "\n",
    "..."
   ]
  },
  {
   "cell_type": "code",
   "execution_count": null,
   "metadata": {
    "deletable": false,
    "editable": false
   },
   "outputs": [],
   "source": [
    "grader.check(\"q1_11\")"
   ]
  },
  {
   "cell_type": "markdown",
   "metadata": {
    "deletable": false,
    "editable": false
   },
   "source": [
    "#### Question 1.12 \n",
    "\n",
    "Create a table called `pop_by_decade` with two columns called `decade` and `population`. It has a row for each `year` since 1960 that starts a decade. The `population` column contains the total population of all countries included in the result of `stats_for_year(year)` for the first `year` of the decade. For example, 1960 is the first year of the 1960's decade. You should see that these countries contain most of the world's population.\n",
    "\n",
    "*Hint:* One approach is to define a function `pop_for_year` that computes this total population, then `apply` it to the `decade` column.  The `stats_for_year` function from the previous question may be useful here.\n",
    "\n",
    "This first test is just a sanity check for your helper function if you choose to use it. You will not lose points for not implementing the function `pop_for_year`.\n",
    "\n",
    "**Note:** The cell where you will generate the `pop_by_decade` table is below the cell where you can choose to define the helper function `pop_for_year`. You should define your `pop_by_decade` table in the cell that starts with the table `decades` being defined. \n"
   ]
  },
  {
   "cell_type": "code",
   "execution_count": null,
   "metadata": {
    "tags": []
   },
   "outputs": [],
   "source": [
    "def pop_for_year(year):\n",
    "    ..."
   ]
  },
  {
   "cell_type": "code",
   "execution_count": null,
   "metadata": {
    "deletable": false,
    "editable": false
   },
   "outputs": [],
   "source": [
    "grader.check(\"q1_12_0\")"
   ]
  },
  {
   "cell_type": "markdown",
   "metadata": {
    "deletable": false,
    "editable": false
   },
   "source": [
    "Now that you've defined your helper function (if you've chosen to do so), define the `pop_by_decade` table.\n"
   ]
  },
  {
   "cell_type": "code",
   "execution_count": null,
   "metadata": {
    "tags": []
   },
   "outputs": [],
   "source": [
    "decades = Table().with_column('decade', np.arange(1960, 2011, 10))\n",
    "\n",
    "pop_by_decade = ...\n",
    "pop_by_decade.set_format(1, NumberFormatter)"
   ]
  },
  {
   "cell_type": "code",
   "execution_count": null,
   "metadata": {
    "deletable": false,
    "editable": false
   },
   "outputs": [],
   "source": [
    "grader.check(\"q1_12\")"
   ]
  },
  {
   "cell_type": "markdown",
   "metadata": {},
   "source": [
    "The `countries` table describes various characteristics of countries. The `country` column contains the same codes as the `geo` column in each of the other data tables (`population`, `fertility`, and `child_mortality`). The `world_6region` column classifies each country into a region of the world. Run the cell below to inspect the data."
   ]
  },
  {
   "cell_type": "code",
   "execution_count": null,
   "metadata": {},
   "outputs": [],
   "source": [
    "countries = Table.read_table('countries.csv').where('country', are.contained_in(population.group('geo').column('geo')))\n",
    "countries.select('country', 'name', 'world_6region')"
   ]
  },
  {
   "cell_type": "markdown",
   "metadata": {
    "deletable": false,
    "editable": false
   },
   "source": [
    "#### Question 1.13 \n",
    "\n",
    "Create a table called `region_counts` that has two columns, `region` and `count`. It should contain two columns: a region column and a count column that contains the number of countries in each region that appear in the result of `stats_for_year(1960)`. For example, one row would have `south_asia` as its `world_6region` value and an integer as its `count` value: the number of large South Asian countries for which we have population, fertility, and child mortality numbers from 1960.\n"
   ]
  },
  {
   "cell_type": "code",
   "execution_count": null,
   "metadata": {
    "tags": []
   },
   "outputs": [],
   "source": [
    "region_counts = ...\n",
    "region_counts"
   ]
  },
  {
   "cell_type": "code",
   "execution_count": null,
   "metadata": {
    "deletable": false,
    "editable": false
   },
   "outputs": [],
   "source": [
    "grader.check(\"q1_13\")"
   ]
  },
  {
   "cell_type": "markdown",
   "metadata": {},
   "source": [
    "The following scatter diagram compares total fertility rate and child mortality rate for each country in 1960. The area of each dot represents the population of the country, and the color represents its region of the world. Run the cell. Do you think you can identify any of the dots?"
   ]
  },
  {
   "cell_type": "code",
   "execution_count": null,
   "metadata": {},
   "outputs": [],
   "source": [
    "from functools import lru_cache as cache\n",
    "\n",
    "# This cache annotation makes sure that if the same year\n",
    "# is passed as an argument twice, the work of computing\n",
    "# the result is only carried out once.\n",
    "@cache(None)\n",
    "def stats_relabeled(year):\n",
    "    \"\"\"Relabeled and cached version of stats_for_year.\"\"\"\n",
    "    return stats_for_year(year).relabel(2, 'Children per woman').relabel(3, 'Child deaths per 1000 born')\n",
    "\n",
    "def fertility_vs_child_mortality(year):\n",
    "    \"\"\"Draw a color scatter diagram comparing child mortality and fertility.\"\"\"\n",
    "    with_region = stats_relabeled(year).join('geo', countries.select('country', 'world_6region'), 'country')\n",
    "    with_region.scatter(2, 3, sizes=1, group=4, s=500)\n",
    "    plots.xlim(0,10)\n",
    "    plots.ylim(-50, 500)\n",
    "    plots.title(year)\n",
    "\n",
    "fertility_vs_child_mortality(1960)"
   ]
  },
  {
   "cell_type": "markdown",
   "metadata": {
    "deletable": false,
    "editable": false
   },
   "source": [
    "#### Question 1.14 \n",
    "\n",
    "Assign `scatter_statements` to an array of the numbers of each statement below that can be inferred from this scatter diagram for 1960. \n",
    "1. As a whole, the `europe_central_asia` region had the lowest child mortality rate.\n",
    "1. The lowest child mortality rate of any country was from an `east_asia_pacific` country.\n",
    "1. Most countries had a fertility rate above 5.\n",
    "1. There was an association between child mortality and fertility.\n",
    "1. The two largest countries by population also had the two highest child mortality rate.\n"
   ]
  },
  {
   "cell_type": "code",
   "execution_count": null,
   "metadata": {
    "tags": []
   },
   "outputs": [],
   "source": [
    "scatter_statements = ..."
   ]
  },
  {
   "cell_type": "code",
   "execution_count": null,
   "metadata": {
    "deletable": false,
    "editable": false
   },
   "outputs": [],
   "source": [
    "grader.check(\"q1_14\")"
   ]
  },
  {
   "cell_type": "markdown",
   "metadata": {},
   "source": [
    "Now is a great time to take a break and watch the same data presented by [Hans Rosling in a 2010 TEDx talk](https://www.gapminder.org/videos/reducing-child-mortality-a-moral-and-environmental-imperative) with nice animations and witty commentary."
   ]
  },
  {
   "cell_type": "markdown",
   "metadata": {},
   "source": [
    "## 2. Global Poverty\n"
   ]
  },
  {
   "cell_type": "markdown",
   "metadata": {},
   "source": [
    "In 1800, 85% of the world's 1 billion people lived in *extreme poverty*, defined by the United Nations as \"a condition characterized by severe deprivation of basic human needs, including food, safe drinking water, sanitation facilities, health, shelter, education and information.\" A common measure of extreme poverty is a person living on less than \\$1.25 per day.\n",
    "\n",
    "In 2018, the proportion of people living in extreme poverty was estimated to be 8%. Although the world rate of extreme poverty has declined consistently for hundreds of years, the number of people living in extreme poverty is still over 600 million. The United Nations recently adopted an [ambitious goal](http://www.un.org/sustainabledevelopment/poverty/): \"By 2030, eradicate extreme poverty for all people everywhere.\"\n",
    "In this section, we will examine extreme poverty trends around the world."
   ]
  },
  {
   "cell_type": "markdown",
   "metadata": {},
   "source": [
    "First, load the population and poverty rate by country and year and the country descriptions. While the `population` table has values for every recent year for many countries, the `poverty` table only includes certain years for each country in which a measurement of the rate of extreme poverty was available."
   ]
  },
  {
   "cell_type": "code",
   "execution_count": null,
   "metadata": {},
   "outputs": [],
   "source": [
    "population = Table.read_table('population.csv')\n",
    "countries = Table.read_table('countries.csv').where('country', are.contained_in(population.group('geo').column('geo')))\n",
    "poverty = Table.read_table('poverty.csv')\n",
    "poverty.show(3)"
   ]
  },
  {
   "cell_type": "markdown",
   "metadata": {
    "deletable": false,
    "editable": false
   },
   "source": [
    "### Question 2.1\n",
    "\n",
    "Assign `latest_poverty` to a three-column table with one row for each country that appears in the `poverty` table. The first column should contain the 3-letter code for the country. The second column should contain the most recent year for which an extreme poverty rate is available for the country. The third column should contain the poverty rate in that year. **Do not change the last line, so that the labels of your table are set correctly.**\n",
    "\n",
    "*Hint*: think about how ```group``` works: it does a sequential search of the table (from top to bottom) and collects values in the array in the order in which they appear, and then applies a function to that array. The `first` function may be helpful, but you are not required to use it.\n"
   ]
  },
  {
   "cell_type": "code",
   "execution_count": null,
   "metadata": {
    "tags": []
   },
   "outputs": [],
   "source": [
    "def first(values):\n",
    "    return values.item(0)\n",
    "\n",
    "latest_poverty = ...\n",
    "latest_poverty = latest_poverty.relabeled(0, 'geo').relabeled(1, 'time').relabeled(2, 'poverty_percent') # You should *not* change this line.\n",
    "latest_poverty"
   ]
  },
  {
   "cell_type": "code",
   "execution_count": null,
   "metadata": {
    "deletable": false,
    "editable": false
   },
   "outputs": [],
   "source": [
    "grader.check(\"q2_1\")"
   ]
  },
  {
   "cell_type": "markdown",
   "metadata": {
    "deletable": false,
    "editable": false
   },
   "source": [
    "### Question 2.2\n",
    "\n",
    "Using both `latest_poverty` and `population`, create a four-column table called `recent_poverty_total` with one row for each country in `latest_poverty`. The four columns should have the following labels and contents, in the following order:\n",
    "1. `geo` contains the 3-letter country code,\n",
    "1. `poverty_percent` contains the most recent poverty percent,\n",
    "1. `population_total` contains the population of the country in 2010,\n",
    "1. `poverty_total` contains the number of people in poverty **rounded to the nearest integer**, based on the 2010 population and most recent poverty rate.\n",
    "\n",
    "Remember, you can add additional steps and intermediate variables to your solution if you'd like, as long as the correct columns/tables are created and stored correctly to `recent_poverty_total`.\n"
   ]
  },
  {
   "cell_type": "code",
   "execution_count": null,
   "metadata": {
    "tags": []
   },
   "outputs": [],
   "source": [
    "poverty_and_pop = ...\n",
    "recent_poverty_total = ...\n",
    "recent_poverty_total"
   ]
  },
  {
   "cell_type": "code",
   "execution_count": null,
   "metadata": {
    "deletable": false,
    "editable": false
   },
   "outputs": [],
   "source": [
    "grader.check(\"q2_2\")"
   ]
  },
  {
   "cell_type": "markdown",
   "metadata": {
    "deletable": false,
    "editable": false
   },
   "source": [
    "### Question 2.3 \n",
    "\n",
    "Assign the name `poverty_percent` to the known percentage of the world’s 2010 population that were living in extreme poverty. Assume that the `poverty_total` numbers in the `recent_poverty_total` table describe **all** people in 2010 living in extreme poverty. You should find a number that is above the 2018 global estimate of 8%, since many country-specific poverty rates are older than 2018.\n",
    "\n",
    "*Hint*: The sum of the `population_total` column in the `recent_poverty_total` table is not the world population, because only a subset of the world's countries are included in the `recent_poverty_total` table (only some countries have known poverty rates). Use the `population` table to compute the world's 2010 total population..\n"
   ]
  },
  {
   "cell_type": "code",
   "execution_count": null,
   "metadata": {
    "tags": []
   },
   "outputs": [],
   "source": [
    "poverty_percent = ...\n",
    "poverty_perecent"
   ]
  },
  {
   "cell_type": "code",
   "execution_count": null,
   "metadata": {
    "deletable": false,
    "editable": false
   },
   "outputs": [],
   "source": [
    "grader.check(\"q2_3\")"
   ]
  },
  {
   "cell_type": "markdown",
   "metadata": {},
   "source": [
    "The `countries` table includes not only the name and region of countries, but also their positions on the globe."
   ]
  },
  {
   "cell_type": "code",
   "execution_count": null,
   "metadata": {},
   "outputs": [],
   "source": [
    "countries.select('country', 'name', 'world_4region', 'latitude', 'longitude')"
   ]
  },
  {
   "cell_type": "markdown",
   "metadata": {
    "deletable": false,
    "editable": false
   },
   "source": [
    "### Question 2.4 \n",
    "\n",
    "Using both `countries` and `recent_poverty_total`, create a five-column table called `poverty_map` with one row for every country in `recent_poverty_total`.  The five columns should have the following labels and contents:\n",
    "1. `latitude` contains the country's latitude,\n",
    "1. `longitude` contains the country's longitude,\n",
    "1. `name` contains the country's name,\n",
    "1. `region` contains the country's region from the `world_4region` column of `countries`,\n",
    "1. `poverty_total` contains the country's poverty total.\n"
   ]
  },
  {
   "cell_type": "code",
   "execution_count": null,
   "metadata": {
    "tags": []
   },
   "outputs": [],
   "source": [
    "poverty_map = ...\n",
    "poverty_map"
   ]
  },
  {
   "cell_type": "code",
   "execution_count": null,
   "metadata": {
    "deletable": false,
    "editable": false
   },
   "outputs": [],
   "source": [
    "grader.check(\"q2_4\")"
   ]
  },
  {
   "cell_type": "markdown",
   "metadata": {},
   "source": [
    "Run the cell below to draw a map of the world in which the areas of circles represent the number of people living in extreme poverty. Double-click on the map to zoom in."
   ]
  },
  {
   "cell_type": "code",
   "execution_count": null,
   "metadata": {},
   "outputs": [],
   "source": [
    "# It may take a few seconds to generate this map.\n",
    "colors = {'africa': 'blue', 'europe': 'black', 'asia': 'red', 'americas': 'green'}\n",
    "scaled = poverty_map.with_columns(\n",
    "    'areas', 1e-4 * poverty_map.column('poverty_total'),\n",
    "    'colors', poverty_map.apply(colors.get, 'region')\n",
    ").drop('region').drop('poverty_total').relabeled('name', 'labels')\n",
    "Circle.map_table(scaled)"
   ]
  },
  {
   "cell_type": "markdown",
   "metadata": {},
   "source": [
    "Although people live in extreme poverty throughout the world (with more than 5 million in the United States), the largest numbers are in Asia and Africa."
   ]
  },
  {
   "cell_type": "markdown",
   "metadata": {
    "deletable": false,
    "editable": false
   },
   "source": [
    "### Question 2.5\n",
    "\n",
    "Assign `largest` to a two-column table with the `name` (not the 3-letter code) and `poverty_total` of the 10 countries with the largest number of people living in extreme poverty.\n"
   ]
  },
  {
   "cell_type": "code",
   "execution_count": null,
   "metadata": {
    "tags": []
   },
   "outputs": [],
   "source": [
    "largest = ...\n",
    "largest.set_format('poverty_total', NumberFormatter)"
   ]
  },
  {
   "cell_type": "code",
   "execution_count": null,
   "metadata": {
    "deletable": false,
    "editable": false
   },
   "outputs": [],
   "source": [
    "grader.check(\"q2_5\")"
   ]
  },
  {
   "cell_type": "markdown",
   "metadata": {
    "deletable": false,
    "editable": false
   },
   "source": [
    "<!-- BEGIN QUESTION -->\n",
    "\n",
    "### Question 2.6\n",
    "\n",
    "Write a function called `poverty_timeline` that takes **the name of a country** (not the geo code) as its argument. It should draw a line plot of the number of people living in poverty in that country with time on the horizontal axis. The line plot should have a point for each row in the `poverty` table for that country. To compute the population living in poverty from a poverty percentage, multiply by the population of the country **in that year**. This function **should not have a return statement**. The last line of code in the function should draw the plot.\n",
    "\n",
    "*Hint:* To make your plot, you will first need to make a table.\n",
    "\n",
    "*Hint:* This question is long. Feel free to create cells and experiment. \n"
   ]
  },
  {
   "cell_type": "code",
   "execution_count": null,
   "metadata": {
    "tags": []
   },
   "outputs": [],
   "source": [
    "def poverty_timeline(country):\n",
    "    '''Draw a timeline of people living in extreme poverty in a country.'''\n",
    "    geo = ...\n",
    "    # This solution will take multiple lines of code. Use as many as you need\n",
    "    ..."
   ]
  },
  {
   "cell_type": "markdown",
   "metadata": {
    "deletable": false,
    "editable": false
   },
   "source": [
    "<!-- END QUESTION -->\n",
    "\n",
    "Finally, draw the timelines below to see how the world is changing. You can check your work by comparing your graphs to the ones on [gapminder.org](https://www.gapminder.org/tools/#$state$entities$show$country$/$in@=ind;;;;&marker$axis_y$which=number_of_people_in_poverty&scaleType=linear&spaceRef:null;;;&chart-type=linechart)."
   ]
  },
  {
   "cell_type": "code",
   "execution_count": null,
   "metadata": {},
   "outputs": [],
   "source": [
    "poverty_timeline('India')\n",
    "poverty_timeline('Nigeria')\n",
    "poverty_timeline('China')\n",
    "poverty_timeline('United States')"
   ]
  },
  {
   "cell_type": "markdown",
   "metadata": {},
   "source": [
    "Although the number of people living in extreme poverty has been increasing in Nigeria and the United States, the massive decreases in China and India have shaped the overall trend that extreme poverty is decreasing worldwide, both in percentage and in absolute number. \n",
    "\n",
    "To learn more, watch [Hans Rosling in a 2015 film](https://www.gapminder.org/videos/dont-panic-end-poverty/) about the UN goal of eradicating extreme poverty from the world. \n",
    "\n",
    "Below, we've also added an interactive dropdown menu for you to visualize `poverty_timeline` graphs for other countries. Note that each dropdown menu selection may take a few seconds to run."
   ]
  },
  {
   "cell_type": "code",
   "execution_count": null,
   "metadata": {},
   "outputs": [],
   "source": [
    "# Just run this cell\n",
    "import ipywidgets as widgets\n",
    "all_countries = poverty_map.column('name')\n",
    "_ = widgets.interact(poverty_timeline, country=list(all_countries))"
   ]
  },
  {
   "cell_type": "markdown",
   "metadata": {},
   "source": [
    "**You're finished!** Congratulations on mastering data visualization and table manipulation."
   ]
  },
  {
   "cell_type": "markdown",
   "metadata": {
    "deletable": false,
    "editable": false
   },
   "source": [
    "## Submission\n",
    "\n",
    "Make sure you have run all cells in your notebook in order before running the cell below, so that all images/graphs appear in the output. The cell below will generate a zip file for you to submit."
   ]
  },
  {
   "cell_type": "code",
   "execution_count": null,
   "metadata": {
    "deletable": false,
    "editable": false
   },
   "outputs": [],
   "source": [
    "grader.export(pdf=False, force_save=True)"
   ]
  },
  {
   "cell_type": "markdown",
   "metadata": {},
   "source": [
    " "
   ]
  }
 ],
 "metadata": {
  "kernelspec": {
   "display_name": "Python 3 (ipykernel)",
   "language": "python",
   "name": "python3"
  },
  "language_info": {
   "codemirror_mode": {
    "name": "ipython",
    "version": 3
   },
   "file_extension": ".py",
   "mimetype": "text/x-python",
   "name": "python",
   "nbconvert_exporter": "python",
   "pygments_lexer": "ipython3",
   "version": "3.11.5"
  },
  "otter": {
   "OK_FORMAT": true,
   "tests": {
    "q1_1": {
     "name": "q1_1",
     "points": 1,
     "suites": [
      {
       "cases": [
        {
         "code": ">>> b_pop.labels == ('time', 'population_total')\nTrue",
         "hidden": false,
         "locked": false
        },
        {
         "code": ">>> all(b_pop.sort('time').column('time') == np.arange(1970, 2016))\nTrue",
         "hidden": false,
         "locked": false
        }
       ],
       "scored": true,
       "setup": "",
       "teardown": "",
       "type": "doctest"
      }
     ]
    },
    "q1_11": {
     "name": "q1_11",
     "points": 1,
     "suites": [
      {
       "cases": [
        {
         "code": ">>> t = stats_for_year(1990)\n>>> t.labels == ('geo', 'population_total', 'children_per_woman_total_fertility', 'child_mortality_under_5_per_1000_born')\nTrue",
         "hidden": false,
         "locked": false
        },
        {
         "code": ">>> stats_for_year(1990).num_rows\n50",
         "hidden": false,
         "locked": false
        },
        {
         "code": ">>> stats_for_year(1960).sort('geo').take(np.arange(5, 50, 5))\ngeo  | population_total | children_per_woman_total_fertility | child_mortality_under_5_per_1000_born\nchn  | 644450173        | 3.99                               | 309\negy  | 27072397         | 6.63                               | 312.8\ngha  | 6652285          | 6.75                               | 210.9\nita  | 49714962         | 2.37                               | 52\nmex  | 38174114         | 6.78                               | 142.9\nnpl  | 10056945         | 5.99                               | 327.1\nprk  | 11424179         | 4.58                               | 127.3\ntur  | 27553280         | 6.3                                | 249\nuzb  | 8789492          | 6.71                               | 175.7",
         "hidden": false,
         "locked": false
        },
        {
         "code": ">>> stats_for_year(2010).sort('geo').take(np.arange(3, 50, 5))\ngeo  | population_total | children_per_woman_total_fertility | child_mortality_under_5_per_1000_born\nbra  | 198614208        | 1.84                               | 16.7\ndeu  | 80435307         | 1.39                               | 4.2\nfra  | 62961136         | 1.98                               | 4.3\nirn  | 74253373         | 1.9                                | 19.2\nkor  | 49090041         | 1.27                               | 4.1\nmys  | 28119500         | 2                                  | 8.3\nphl  | 93038902         | 3.15                               | 31.9\nsdn  | 36114885         | 4.64                               | 80.2\nukr  | 45647497         | 1.44                               | 11.8\nyem  | 23591972         | 4.5                                | 58.8",
         "hidden": false,
         "locked": false
        }
       ],
       "scored": true,
       "setup": "",
       "teardown": "",
       "type": "doctest"
      }
     ]
    },
    "q1_12": {
     "name": "q1_12",
     "points": 1,
     "suites": [
      {
       "cases": [
        {
         "code": ">>> pop_by_decade.labels == ('decade', 'population')\nTrue",
         "hidden": false,
         "locked": false
        },
        {
         "code": ">>> pop_by_decade.column(0).item(0) == 1960\nTrue",
         "hidden": false,
         "locked": false
        }
       ],
       "scored": true,
       "setup": "",
       "teardown": "",
       "type": "doctest"
      }
     ]
    },
    "q1_12_0": {
     "name": "q1_12_0",
     "points": 0,
     "suites": [
      {
       "cases": [
        {
         "code": ">>> pop_for_year(1972) == 3345978384\nTrue",
         "hidden": false,
         "locked": false
        },
        {
         "code": ">>> pop_for_year(1989) == 4567880153\nTrue",
         "hidden": false,
         "locked": false
        },
        {
         "code": ">>> pop_for_year(2002) == 5501335945\nTrue",
         "hidden": false,
         "locked": false
        }
       ],
       "scored": true,
       "setup": "",
       "teardown": "",
       "type": "doctest"
      }
     ]
    },
    "q1_13": {
     "name": "q1_13",
     "points": 1,
     "suites": [
      {
       "cases": [
        {
         "code": ">>> region_counts.labels == ('region', 'count')\nTrue",
         "hidden": false,
         "locked": false
        },
        {
         "code": ">>> sum(region_counts.column('count')) == 50\nTrue",
         "hidden": false,
         "locked": false
        }
       ],
       "scored": true,
       "setup": "",
       "teardown": "",
       "type": "doctest"
      }
     ]
    },
    "q1_14": {
     "name": "q1_14",
     "points": 1,
     "suites": [
      {
       "cases": [
        {
         "code": ">>> all((x in range(1, 6) for x in set(scatter_statements)))\nTrue",
         "hidden": false,
         "locked": false
        }
       ],
       "scored": true,
       "setup": "",
       "teardown": "",
       "type": "doctest"
      }
     ]
    },
    "q1_2": {
     "name": "q1_2",
     "points": null,
     "suites": [
      {
       "cases": [
        {
         "code": ">>> first = round(b_five_growth.sort(0).column(2).item(0), 8)\n>>> 0.005 <= first <= 0.5\nTrue",
         "hidden": false,
         "locked": false
        },
        {
         "code": ">>> max(b_five_growth.column(2)) < 0.03\nTrue",
         "hidden": false,
         "locked": false
        }
       ],
       "scored": true,
       "setup": "",
       "teardown": "",
       "type": "doctest"
      }
     ]
    },
    "q1_5": {
     "name": "q1_5",
     "points": null,
     "suites": [
      {
       "cases": [
        {
         "code": ">>> fertility_over_time('usa', 2010).labels == ('Year', 'Children per woman')\nTrue",
         "hidden": false,
         "locked": false
        },
        {
         "code": ">>> all(fertility_over_time('usa', 2010).column('Year') == np.arange(2010, 2016))\nTrue",
         "hidden": false,
         "locked": false
        },
        {
         "code": ">>> all(fertility_over_time('usa', 2005).column('Year') == np.arange(2005, 2016))\nTrue",
         "hidden": false,
         "locked": false
        }
       ],
       "scored": true,
       "setup": "",
       "teardown": "",
       "type": "doctest"
      }
     ]
    },
    "q1_7": {
     "name": "q1_7",
     "points": 1,
     "suites": [
      {
       "cases": [
        {
         "code": ">>> post_1969_fertility_and_child_mortality.num_rows\n46",
         "hidden": false,
         "locked": false
        },
        {
         "code": ">>> all([label in post_1969_fertility_and_child_mortality.labels for label in ['Children per woman', 'Child deaths per 1000 born']])\nTrue",
         "hidden": false,
         "locked": false
        }
       ],
       "scored": true,
       "setup": "",
       "teardown": "",
       "type": "doctest"
      }
     ]
    },
    "q1_9": {
     "name": "q1_9",
     "points": 1,
     "suites": [
      {
       "cases": [
        {
         "code": ">>> all((x in range(1, 7) for x in set(fertility_statements)))\nTrue",
         "hidden": false,
         "locked": false
        }
       ],
       "scored": true,
       "setup": "",
       "teardown": "",
       "type": "doctest"
      }
     ]
    },
    "q2_1": {
     "name": "q2_1",
     "points": 1,
     "suites": [
      {
       "cases": [
        {
         "code": ">>> latest_poverty.labels == ('geo', 'time', 'poverty_percent')\nTrue",
         "hidden": false,
         "locked": false
        },
        {
         "code": ">>> latest_poverty.num_rows == 145\nTrue",
         "hidden": false,
         "locked": false
        }
       ],
       "scored": true,
       "setup": "",
       "teardown": "",
       "type": "doctest"
      }
     ]
    },
    "q2_2": {
     "name": "q2_2",
     "points": 1,
     "suites": [
      {
       "cases": [
        {
         "code": ">>> recent_poverty_total.labels == ('geo', 'poverty_percent', 'population_total', 'poverty_total')\nTrue",
         "hidden": false,
         "locked": false
        },
        {
         "code": ">>> recent_poverty_total.where('geo', 'aus').column(2).item(0) == 22162863\nTrue",
         "hidden": false,
         "locked": false
        },
        {
         "code": ">>> np.isclose(float(recent_poverty_total.where('geo', 'aus').column(3).item(0)), 301415.0)\nTrue",
         "hidden": false,
         "locked": false
        }
       ],
       "scored": true,
       "setup": "",
       "teardown": "",
       "type": "doctest"
      }
     ]
    },
    "q2_3": {
     "name": "q2_3",
     "points": 1,
     "suites": [
      {
       "cases": [
        {
         "code": ">>> 10 <= poverty_percent <= 20\nTrue",
         "hidden": false,
         "locked": false
        }
       ],
       "scored": true,
       "setup": "",
       "teardown": "",
       "type": "doctest"
      }
     ]
    },
    "q2_4": {
     "name": "q2_4",
     "points": 1,
     "suites": [
      {
       "cases": [
        {
         "code": ">>> poverty_map.labels == ('latitude', 'longitude', 'name', 'region', 'poverty_total')\nTrue",
         "hidden": false,
         "locked": false
        },
        {
         "code": ">>> np.array_equal(np.sort(np.unique(poverty_map.column('region'))), np.array(['africa', 'americas', 'asia', 'europe']))\nTrue",
         "hidden": false,
         "locked": false
        }
       ],
       "scored": true,
       "setup": "",
       "teardown": "",
       "type": "doctest"
      }
     ]
    },
    "q2_5": {
     "name": "q2_5",
     "points": 1,
     "suites": [
      {
       "cases": [
        {
         "code": ">>> largest.labels == ('name', 'poverty_total')\nTrue",
         "hidden": false,
         "locked": false
        },
        {
         "code": ">>> largest.column(0).item(0) == 'India'\nTrue",
         "hidden": false,
         "locked": false
        },
        {
         "code": ">>> largest.num_rows == 10\nTrue",
         "hidden": false,
         "locked": false
        }
       ],
       "scored": true,
       "setup": "",
       "teardown": "",
       "type": "doctest"
      }
     ]
    }
   }
  },
  "widgets": {
   "application/vnd.jupyter.widget-state+json": {
    "state": {
     "0836e1b7b08149339dc4e2de68e8331d": {
      "model_module": "@jupyter-widgets/controls",
      "model_module_version": "1.5.0",
      "model_name": "DescriptionStyleModel",
      "state": {
       "_model_module": "@jupyter-widgets/controls",
       "_model_module_version": "1.5.0",
       "_model_name": "DescriptionStyleModel",
       "_view_count": null,
       "_view_module": "@jupyter-widgets/base",
       "_view_module_version": "1.2.0",
       "_view_name": "StyleView",
       "description_width": ""
      }
     },
     "1b6a1fd400cf41eb9e33c24c34b4d058": {
      "model_module": "@jupyter-widgets/controls",
      "model_module_version": "1.5.0",
      "model_name": "VBoxModel",
      "state": {
       "_dom_classes": [
        "widget-interact"
       ],
       "_model_module": "@jupyter-widgets/controls",
       "_model_module_version": "1.5.0",
       "_model_name": "VBoxModel",
       "_view_count": null,
       "_view_module": "@jupyter-widgets/controls",
       "_view_module_version": "1.5.0",
       "_view_name": "VBoxView",
       "box_style": "",
       "children": [
        "IPY_MODEL_ee7f93af70134b6391d1962e326cf3f5",
        "IPY_MODEL_fe45a1618a7547fb81b112d13d77a319"
       ],
       "layout": "IPY_MODEL_f052b99bb4d8412b8f61ce07cd06af9d"
      }
     },
     "24b1710d921841ad96cfb4aec6a3d6f7": {
      "model_module": "@jupyter-widgets/base",
      "model_module_version": "1.2.0",
      "model_name": "LayoutModel",
      "state": {
       "_model_module": "@jupyter-widgets/base",
       "_model_module_version": "1.2.0",
       "_model_name": "LayoutModel",
       "_view_count": null,
       "_view_module": "@jupyter-widgets/base",
       "_view_module_version": "1.2.0",
       "_view_name": "LayoutView",
       "align_content": null,
       "align_items": null,
       "align_self": null,
       "border": null,
       "bottom": null,
       "display": null,
       "flex": null,
       "flex_flow": null,
       "grid_area": null,
       "grid_auto_columns": null,
       "grid_auto_flow": null,
       "grid_auto_rows": null,
       "grid_column": null,
       "grid_gap": null,
       "grid_row": null,
       "grid_template_areas": null,
       "grid_template_columns": null,
       "grid_template_rows": null,
       "height": null,
       "justify_content": null,
       "justify_items": null,
       "left": null,
       "margin": null,
       "max_height": null,
       "max_width": null,
       "min_height": null,
       "min_width": null,
       "object_fit": null,
       "object_position": null,
       "order": null,
       "overflow": null,
       "overflow_x": null,
       "overflow_y": null,
       "padding": null,
       "right": null,
       "top": null,
       "visibility": null,
       "width": null
      }
     },
     "caabe6b06b1e40478a8cb4e330f8e513": {
      "model_module": "@jupyter-widgets/base",
      "model_module_version": "1.2.0",
      "model_name": "LayoutModel",
      "state": {
       "_model_module": "@jupyter-widgets/base",
       "_model_module_version": "1.2.0",
       "_model_name": "LayoutModel",
       "_view_count": null,
       "_view_module": "@jupyter-widgets/base",
       "_view_module_version": "1.2.0",
       "_view_name": "LayoutView",
       "align_content": null,
       "align_items": null,
       "align_self": null,
       "border": null,
       "bottom": null,
       "display": null,
       "flex": null,
       "flex_flow": null,
       "grid_area": null,
       "grid_auto_columns": null,
       "grid_auto_flow": null,
       "grid_auto_rows": null,
       "grid_column": null,
       "grid_gap": null,
       "grid_row": null,
       "grid_template_areas": null,
       "grid_template_columns": null,
       "grid_template_rows": null,
       "height": null,
       "justify_content": null,
       "justify_items": null,
       "left": null,
       "margin": null,
       "max_height": null,
       "max_width": null,
       "min_height": null,
       "min_width": null,
       "object_fit": null,
       "object_position": null,
       "order": null,
       "overflow": null,
       "overflow_x": null,
       "overflow_y": null,
       "padding": null,
       "right": null,
       "top": null,
       "visibility": null,
       "width": null
      }
     },
     "ee7f93af70134b6391d1962e326cf3f5": {
      "model_module": "@jupyter-widgets/controls",
      "model_module_version": "1.5.0",
      "model_name": "DropdownModel",
      "state": {
       "_dom_classes": [],
       "_model_module": "@jupyter-widgets/controls",
       "_model_module_version": "1.5.0",
       "_model_name": "DropdownModel",
       "_options_labels": [
        "Angola",
        "Albania",
        "Argentina",
        "Armenia",
        "Australia",
        "Austria",
        "Azerbaijan",
        "Burundi",
        "Belgium",
        "Benin",
        "Burkina Faso",
        "Bangladesh",
        "Bulgaria",
        "Bosnia and Herzegovina",
        "Belarus",
        "Belize",
        "Bolivia",
        "Brazil",
        "Bhutan",
        "Botswana",
        "Central African Republic",
        "Canada",
        "Switzerland",
        "Chile",
        "China",
        "Cote d'Ivoire",
        "Cameroon",
        "Congo, Dem. Rep.",
        "Congo, Rep.",
        "Colombia",
        "Comoros",
        "Cape Verde",
        "Costa Rica",
        "Czech Republic",
        "Germany",
        "Djibouti",
        "Denmark",
        "Dominican Republic",
        "Algeria",
        "Ecuador",
        "Egypt",
        "Spain",
        "Estonia",
        "Ethiopia",
        "Finland",
        "Fiji",
        "France",
        "Micronesia, Fed. Sts.",
        "Gabon",
        "United Kingdom",
        "Georgia",
        "Ghana",
        "Guinea",
        "Gambia",
        "Guinea-Bissau",
        "Greece",
        "Guatemala",
        "Guyana",
        "Honduras",
        "Croatia",
        "Haiti",
        "Hungary",
        "Indonesia",
        "India",
        "Ireland",
        "Iran",
        "Iraq",
        "Israel",
        "Italy",
        "Jamaica",
        "Jordan",
        "Japan",
        "Kazakhstan",
        "Kenya",
        "Kyrgyz Republic",
        "Cambodia",
        "Lao",
        "Liberia",
        "St. Lucia",
        "Sri Lanka",
        "Lesotho",
        "Lithuania",
        "Latvia",
        "Morocco",
        "Moldova",
        "Madagascar",
        "Maldives",
        "Mexico",
        "Macedonia, FYR",
        "Mali",
        "Montenegro",
        "Mozambique",
        "Mauritania",
        "Malawi",
        "Malaysia",
        "Namibia",
        "Niger",
        "Nigeria",
        "Nicaragua",
        "Netherlands",
        "Norway",
        "Nepal",
        "Pakistan",
        "Panama",
        "Peru",
        "Philippines",
        "Papua New Guinea",
        "Poland",
        "Paraguay",
        "Palestine",
        "Romania",
        "Russia",
        "Rwanda",
        "Sudan",
        "Senegal",
        "Sierra Leone",
        "El Salvador",
        "Serbia",
        "Sao Tome and Principe",
        "Suriname",
        "Slovak Republic",
        "Slovenia",
        "Sweden",
        "Swaziland",
        "Seychelles",
        "Syria",
        "Chad",
        "Togo",
        "Thailand",
        "Tajikistan",
        "Turkmenistan",
        "Timor-Leste",
        "Trinidad and Tobago",
        "Tunisia",
        "Turkey",
        "Tanzania",
        "Uganda",
        "Ukraine",
        "Uruguay",
        "United States",
        "Venezuela",
        "Vietnam",
        "Yemen",
        "South Africa",
        "Zambia"
       ],
       "_view_count": null,
       "_view_module": "@jupyter-widgets/controls",
       "_view_module_version": "1.5.0",
       "_view_name": "DropdownView",
       "description": "country",
       "description_tooltip": null,
       "disabled": false,
       "index": 0,
       "layout": "IPY_MODEL_caabe6b06b1e40478a8cb4e330f8e513",
       "style": "IPY_MODEL_0836e1b7b08149339dc4e2de68e8331d"
      }
     },
     "f052b99bb4d8412b8f61ce07cd06af9d": {
      "model_module": "@jupyter-widgets/base",
      "model_module_version": "1.2.0",
      "model_name": "LayoutModel",
      "state": {
       "_model_module": "@jupyter-widgets/base",
       "_model_module_version": "1.2.0",
       "_model_name": "LayoutModel",
       "_view_count": null,
       "_view_module": "@jupyter-widgets/base",
       "_view_module_version": "1.2.0",
       "_view_name": "LayoutView",
       "align_content": null,
       "align_items": null,
       "align_self": null,
       "border": null,
       "bottom": null,
       "display": null,
       "flex": null,
       "flex_flow": null,
       "grid_area": null,
       "grid_auto_columns": null,
       "grid_auto_flow": null,
       "grid_auto_rows": null,
       "grid_column": null,
       "grid_gap": null,
       "grid_row": null,
       "grid_template_areas": null,
       "grid_template_columns": null,
       "grid_template_rows": null,
       "height": null,
       "justify_content": null,
       "justify_items": null,
       "left": null,
       "margin": null,
       "max_height": null,
       "max_width": null,
       "min_height": null,
       "min_width": null,
       "object_fit": null,
       "object_position": null,
       "order": null,
       "overflow": null,
       "overflow_x": null,
       "overflow_y": null,
       "padding": null,
       "right": null,
       "top": null,
       "visibility": null,
       "width": null
      }
     },
     "fe45a1618a7547fb81b112d13d77a319": {
      "model_module": "@jupyter-widgets/output",
      "model_module_version": "1.0.0",
      "model_name": "OutputModel",
      "state": {
       "_dom_classes": [],
       "_model_module": "@jupyter-widgets/output",
       "_model_module_version": "1.0.0",
       "_model_name": "OutputModel",
       "_view_count": null,
       "_view_module": "@jupyter-widgets/output",
       "_view_module_version": "1.0.0",
       "_view_name": "OutputView",
       "layout": "IPY_MODEL_24b1710d921841ad96cfb4aec6a3d6f7",
       "msg_id": "",
       "outputs": [
        {
         "data": {
          "image/png": "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\n",
          "text/plain": "<Figure size 432x432 with 1 Axes>"
         },
         "metadata": {},
         "output_type": "display_data"
        }
       ]
      }
     }
    },
    "version_major": 2,
    "version_minor": 0
   }
  }
 },
 "nbformat": 4,
 "nbformat_minor": 4
}
